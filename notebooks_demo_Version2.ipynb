# Ejemplo de uso del proyecto
from src.ocr_plate import read_plate

image_path = 'data/images/Cars0.png'
annotation_path = 'data/annotations/Cars0.xml'
text, plate_img = read_plate(image_path, annotation_path)
print("Texto detectado:", text)